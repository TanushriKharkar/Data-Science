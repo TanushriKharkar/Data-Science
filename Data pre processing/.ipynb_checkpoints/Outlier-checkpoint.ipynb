{
 "cells": [
  {
   "cell_type": "code",
   "execution_count": 11,
   "id": "63f738e3-9ab0-497a-9926-26c007b0a0e1",
   "metadata": {},
   "outputs": [],
   "source": [
    "#What is Outlier ?\n",
    "#=> if we having some data and the graph of that data is getting out of range, bcoz of some values which is out of range from remaining \n",
    "#values called as outlier "
   ]
  },
  {
   "cell_type": "markdown",
   "id": "fa49b1e1-026c-4e02-afc9-cbc6d0aa2e9a",
   "metadata": {},
   "source": [
    "# Outlier Detection "
   ]
  },
  {
   "cell_type": "code",
   "execution_count": 1,
   "id": "4d1f07af-a784-45b9-afc5-a1bd691b88f9",
   "metadata": {},
   "outputs": [],
   "source": [
    "import pandas as pd\n",
    "import matplotlib.pyplot as plt\n",
    "import seaborn as sns"
   ]
  },
  {
   "cell_type": "code",
   "execution_count": 2,
   "id": "8c6866bf-77c4-445d-b789-c5749bba0a05",
   "metadata": {},
   "outputs": [
    {
     "data": {
      "text/html": [
       "<div>\n",
       "<style scoped>\n",
       "    .dataframe tbody tr th:only-of-type {\n",
       "        vertical-align: middle;\n",
       "    }\n",
       "\n",
       "    .dataframe tbody tr th {\n",
       "        vertical-align: top;\n",
       "    }\n",
       "\n",
       "    .dataframe thead th {\n",
       "        text-align: right;\n",
       "    }\n",
       "</style>\n",
       "<table border=\"1\" class=\"dataframe\">\n",
       "  <thead>\n",
       "    <tr style=\"text-align: right;\">\n",
       "      <th></th>\n",
       "      <th>Transaction ID</th>\n",
       "      <th>Date</th>\n",
       "      <th>Product Category</th>\n",
       "      <th>Product Name</th>\n",
       "      <th>Units Sold</th>\n",
       "      <th>Unit Price</th>\n",
       "      <th>Total Revenue</th>\n",
       "      <th>Region</th>\n",
       "      <th>Payment Method</th>\n",
       "    </tr>\n",
       "  </thead>\n",
       "  <tbody>\n",
       "    <tr>\n",
       "      <th>0</th>\n",
       "      <td>10001.0</td>\n",
       "      <td>01-01-2024</td>\n",
       "      <td>NaN</td>\n",
       "      <td>iPhone 14 Pro</td>\n",
       "      <td>2</td>\n",
       "      <td>999.99</td>\n",
       "      <td>1999.98</td>\n",
       "      <td>North America</td>\n",
       "      <td>Credit Card</td>\n",
       "    </tr>\n",
       "    <tr>\n",
       "      <th>1</th>\n",
       "      <td>10002.0</td>\n",
       "      <td>02-01-2024</td>\n",
       "      <td>Home Appliances</td>\n",
       "      <td>Dyson V11 Vacuum</td>\n",
       "      <td>1</td>\n",
       "      <td>499.99</td>\n",
       "      <td>499.99</td>\n",
       "      <td>Europe</td>\n",
       "      <td>PayPal</td>\n",
       "    </tr>\n",
       "    <tr>\n",
       "      <th>2</th>\n",
       "      <td>10003.0</td>\n",
       "      <td>03-01-2024</td>\n",
       "      <td>Clothing</td>\n",
       "      <td>Levi's 501 Jeans</td>\n",
       "      <td>3</td>\n",
       "      <td>69.99</td>\n",
       "      <td>209.97</td>\n",
       "      <td>Asia</td>\n",
       "      <td>Debit Card</td>\n",
       "    </tr>\n",
       "    <tr>\n",
       "      <th>3</th>\n",
       "      <td>10004.0</td>\n",
       "      <td>04-01-2024</td>\n",
       "      <td>Books</td>\n",
       "      <td>The Da Vinci Code</td>\n",
       "      <td>4</td>\n",
       "      <td>15.99</td>\n",
       "      <td>63.96</td>\n",
       "      <td>North America</td>\n",
       "      <td>Credit Card</td>\n",
       "    </tr>\n",
       "    <tr>\n",
       "      <th>4</th>\n",
       "      <td>10005.0</td>\n",
       "      <td>05-01-2024</td>\n",
       "      <td>Beauty Products</td>\n",
       "      <td>Neutrogena Skincare Set</td>\n",
       "      <td>1</td>\n",
       "      <td>89.99</td>\n",
       "      <td>89.99</td>\n",
       "      <td>Europe</td>\n",
       "      <td>PayPal</td>\n",
       "    </tr>\n",
       "    <tr>\n",
       "      <th>5</th>\n",
       "      <td>10006.0</td>\n",
       "      <td>06-01-2024</td>\n",
       "      <td>Sports</td>\n",
       "      <td>Wilson Evolution Basketball</td>\n",
       "      <td>5</td>\n",
       "      <td>29.99</td>\n",
       "      <td>149.95</td>\n",
       "      <td>Asia</td>\n",
       "      <td>Credit Card</td>\n",
       "    </tr>\n",
       "    <tr>\n",
       "      <th>6</th>\n",
       "      <td>10007.0</td>\n",
       "      <td>07-01-2024</td>\n",
       "      <td>Electronics</td>\n",
       "      <td>MacBook Pro 16-inch</td>\n",
       "      <td>1</td>\n",
       "      <td>2499.99</td>\n",
       "      <td>2499.99</td>\n",
       "      <td>North America</td>\n",
       "      <td>Credit Card</td>\n",
       "    </tr>\n",
       "    <tr>\n",
       "      <th>7</th>\n",
       "      <td>10008.0</td>\n",
       "      <td>08-01-2024</td>\n",
       "      <td>Home Appliances</td>\n",
       "      <td>Blueair Classic 480i</td>\n",
       "      <td>2</td>\n",
       "      <td>599.99</td>\n",
       "      <td>1199.98</td>\n",
       "      <td>Europe</td>\n",
       "      <td>PayPal</td>\n",
       "    </tr>\n",
       "    <tr>\n",
       "      <th>8</th>\n",
       "      <td>10009.0</td>\n",
       "      <td>09-01-2024</td>\n",
       "      <td>Clothing</td>\n",
       "      <td>Nike Air Force 1</td>\n",
       "      <td>6</td>\n",
       "      <td>89.99</td>\n",
       "      <td>539.94</td>\n",
       "      <td>Asia</td>\n",
       "      <td>Debit Card</td>\n",
       "    </tr>\n",
       "    <tr>\n",
       "      <th>9</th>\n",
       "      <td>10010.0</td>\n",
       "      <td>10-01-2024</td>\n",
       "      <td>Books</td>\n",
       "      <td>Dune by Frank Herbert</td>\n",
       "      <td>2</td>\n",
       "      <td>25.99</td>\n",
       "      <td>51.98</td>\n",
       "      <td>North America</td>\n",
       "      <td>Credit Card</td>\n",
       "    </tr>\n",
       "  </tbody>\n",
       "</table>\n",
       "</div>"
      ],
      "text/plain": [
       "   Transaction ID        Date Product Category                 Product Name  \\\n",
       "0         10001.0  01-01-2024              NaN                iPhone 14 Pro   \n",
       "1         10002.0  02-01-2024  Home Appliances             Dyson V11 Vacuum   \n",
       "2         10003.0  03-01-2024         Clothing             Levi's 501 Jeans   \n",
       "3         10004.0  04-01-2024            Books            The Da Vinci Code   \n",
       "4         10005.0  05-01-2024  Beauty Products      Neutrogena Skincare Set   \n",
       "5         10006.0  06-01-2024           Sports  Wilson Evolution Basketball   \n",
       "6         10007.0  07-01-2024      Electronics          MacBook Pro 16-inch   \n",
       "7         10008.0  08-01-2024  Home Appliances         Blueair Classic 480i   \n",
       "8         10009.0  09-01-2024         Clothing             Nike Air Force 1   \n",
       "9         10010.0  10-01-2024            Books        Dune by Frank Herbert   \n",
       "\n",
       "  Units Sold  Unit Price  Total Revenue         Region Payment Method  \n",
       "0          2      999.99        1999.98  North America    Credit Card  \n",
       "1          1      499.99         499.99         Europe         PayPal  \n",
       "2          3       69.99         209.97           Asia     Debit Card  \n",
       "3          4       15.99          63.96  North America    Credit Card  \n",
       "4          1       89.99          89.99         Europe         PayPal  \n",
       "5          5       29.99         149.95           Asia    Credit Card  \n",
       "6          1     2499.99        2499.99  North America    Credit Card  \n",
       "7          2      599.99        1199.98         Europe         PayPal  \n",
       "8          6       89.99         539.94           Asia     Debit Card  \n",
       "9          2       25.99          51.98  North America    Credit Card  "
      ]
     },
     "execution_count": 2,
     "metadata": {},
     "output_type": "execute_result"
    }
   ],
   "source": [
    "dataset = pd.read_csv(\"Online Sales Data.csv\")\n",
    "dataset.head(10)"
   ]
  },
  {
   "cell_type": "code",
   "execution_count": 3,
   "id": "bb71244a-4d20-4bca-84af-6732c2a6a163",
   "metadata": {},
   "outputs": [
    {
     "name": "stdout",
     "output_type": "stream",
     "text": [
      "<class 'pandas.core.frame.DataFrame'>\n",
      "RangeIndex: 240 entries, 0 to 239\n",
      "Data columns (total 9 columns):\n",
      " #   Column            Non-Null Count  Dtype  \n",
      "---  ------            --------------  -----  \n",
      " 0   Transaction ID    239 non-null    float64\n",
      " 1   Date              240 non-null    object \n",
      " 2   Product Category  236 non-null    object \n",
      " 3   Product Name      239 non-null    object \n",
      " 4   Units Sold        238 non-null    object \n",
      " 5   Unit Price        238 non-null    float64\n",
      " 6   Total Revenue     239 non-null    float64\n",
      " 7   Region            238 non-null    object \n",
      " 8   Payment Method    239 non-null    object \n",
      "dtypes: float64(3), object(6)\n",
      "memory usage: 17.0+ KB\n"
     ]
    }
   ],
   "source": [
    "dataset.info()"
   ]
  },
  {
   "cell_type": "code",
   "execution_count": 4,
   "id": "b6cc635d-b6d5-413d-9cab-6662e03a09e2",
   "metadata": {},
   "outputs": [
    {
     "data": {
      "text/html": [
       "<div>\n",
       "<style scoped>\n",
       "    .dataframe tbody tr th:only-of-type {\n",
       "        vertical-align: middle;\n",
       "    }\n",
       "\n",
       "    .dataframe tbody tr th {\n",
       "        vertical-align: top;\n",
       "    }\n",
       "\n",
       "    .dataframe thead th {\n",
       "        text-align: right;\n",
       "    }\n",
       "</style>\n",
       "<table border=\"1\" class=\"dataframe\">\n",
       "  <thead>\n",
       "    <tr style=\"text-align: right;\">\n",
       "      <th></th>\n",
       "      <th>Transaction ID</th>\n",
       "      <th>Unit Price</th>\n",
       "      <th>Total Revenue</th>\n",
       "    </tr>\n",
       "  </thead>\n",
       "  <tbody>\n",
       "    <tr>\n",
       "      <th>count</th>\n",
       "      <td>239.000000</td>\n",
       "      <td>238.000000</td>\n",
       "      <td>239.000000</td>\n",
       "    </tr>\n",
       "    <tr>\n",
       "      <th>mean</th>\n",
       "      <td>10120.523013</td>\n",
       "      <td>238.132143</td>\n",
       "      <td>336.309038</td>\n",
       "    </tr>\n",
       "    <tr>\n",
       "      <th>std</th>\n",
       "      <td>69.571003</td>\n",
       "      <td>430.833360</td>\n",
       "      <td>486.731983</td>\n",
       "    </tr>\n",
       "    <tr>\n",
       "      <th>min</th>\n",
       "      <td>10001.000000</td>\n",
       "      <td>6.500000</td>\n",
       "      <td>6.500000</td>\n",
       "    </tr>\n",
       "    <tr>\n",
       "      <th>25%</th>\n",
       "      <td>10060.500000</td>\n",
       "      <td>29.622500</td>\n",
       "      <td>61.970000</td>\n",
       "    </tr>\n",
       "    <tr>\n",
       "      <th>50%</th>\n",
       "      <td>10121.000000</td>\n",
       "      <td>89.995000</td>\n",
       "      <td>179.970000</td>\n",
       "    </tr>\n",
       "    <tr>\n",
       "      <th>75%</th>\n",
       "      <td>10180.500000</td>\n",
       "      <td>249.990000</td>\n",
       "      <td>399.450000</td>\n",
       "    </tr>\n",
       "    <tr>\n",
       "      <th>max</th>\n",
       "      <td>10240.000000</td>\n",
       "      <td>3899.990000</td>\n",
       "      <td>3899.990000</td>\n",
       "    </tr>\n",
       "  </tbody>\n",
       "</table>\n",
       "</div>"
      ],
      "text/plain": [
       "       Transaction ID   Unit Price  Total Revenue\n",
       "count      239.000000   238.000000     239.000000\n",
       "mean     10120.523013   238.132143     336.309038\n",
       "std         69.571003   430.833360     486.731983\n",
       "min      10001.000000     6.500000       6.500000\n",
       "25%      10060.500000    29.622500      61.970000\n",
       "50%      10121.000000    89.995000     179.970000\n",
       "75%      10180.500000   249.990000     399.450000\n",
       "max      10240.000000  3899.990000    3899.990000"
      ]
     },
     "execution_count": 4,
     "metadata": {},
     "output_type": "execute_result"
    }
   ],
   "source": [
    "dataset.describe()"
   ]
  },
  {
   "cell_type": "code",
   "execution_count": 5,
   "id": "68038738-b82e-405c-9484-766455ff14ac",
   "metadata": {},
   "outputs": [
    {
     "data": {
      "image/png": "[encoded data removed]",
      "text/plain": [
       "<Figure size 640x480 with 1 Axes>"
      ]
     },
     "metadata": {},
     "output_type": "display_data"
    }
   ],
   "source": [
    "sns.boxplot(y = \"Total Revenue\", data=dataset)\n",
    "plt.show()"
   ]
  },
  {
   "cell_type": "code",
   "execution_count": 19,
   "id": "654122bb-d7ea-4259-8964-b3153910fc87",
   "metadata": {},
   "outputs": [
    {
     "data": {
      "image/png": "[encoded data removed]",
      "text/plain": [
       "<Figure size 640x480 with 1 Axes>"
      ]
     },
     "metadata": {},
     "output_type": "display_data"
    }
   ],
   "source": [
    "sns.boxplot(y = \"Unit Price\", data=dataset)\n",
    "plt.show()"
   ]
  },
  {
   "cell_type": "code",
   "execution_count": 7,
   "id": "d6eda196-4afa-49de-8199-808a0f3377ec",
   "metadata": {},
   "outputs": [
    {
     "name": "stderr",
     "output_type": "stream",
     "text": [
      "C:\\Users\\HP\\AppData\\Local\\Temp\\ipykernel_5584\\2019739860.py:1: UserWarning: \n",
      "\n",
      "`distplot` is a deprecated function and will be removed in seaborn v0.14.0.\n",
      "\n",
      "Please adapt your code to use either `displot` (a figure-level function with\n",
      "similar flexibility) or `histplot` (an axes-level function for histograms).\n",
      "\n",
      "For a guide to updating your code to use the new functions, please see\n",
      "https://gist.github.com/mwaskom/de44147ed2974457ad6372750bbe5751\n",
      "\n",
      "  sns.distplot(dataset[\"Unit Price\"])\n"
     ]
    },
    {
     "data": {
      "image/png": "[encoded data removed]",
      "text/plain": [
       "<Figure size 640x480 with 1 Axes>"
      ]
     },
     "metadata": {},
     "output_type": "display_data"
    }
   ],
   "source": [
    "sns.distplot(dataset[\"Unit Price\"])\n",
    "plt.show()"
   ]
  },
  {
   "cell_type": "code",
   "execution_count": 8,
   "id": "59e7b351-8067-4f52-947c-075766db7f21",
   "metadata": {},
   "outputs": [],
   "source": [
    "#in above graph, it shows the long stretched line upto 4000, this means there is outlier present"
   ]
  },
  {
   "cell_type": "code",
   "execution_count": null,
   "id": "840eee33-35b4-45ef-8478-c711fae4fd85",
   "metadata": {},
   "outputs": [],
   "source": []
  },
  {
   "cell_type": "code",
   "execution_count": 9,
   "id": "8887c5a6-950e-41d0-9998-26b216db2451",
   "metadata": {},
   "outputs": [
    {
     "data": {
      "text/plain": [
       "5.625"
      ]
     },
     "execution_count": 9,
     "metadata": {},
     "output_type": "execute_result"
    }
   ],
   "source": [
    "l = [5,6,7,5,4,6,7,5]\n",
    "#average\n",
    "sum(l)/len(l)"
   ]
  },
  {
   "cell_type": "code",
   "execution_count": 10,
   "id": "f193686c-30e2-4e48-8a4e-d79f704859c7",
   "metadata": {},
   "outputs": [
    {
     "data": {
      "text/plain": [
       "16.11111111111111"
      ]
     },
     "execution_count": 10,
     "metadata": {},
     "output_type": "execute_result"
    }
   ],
   "source": [
    "l = [5,6,7,5,4,6,7,5,100]\n",
    "#average\n",
    "sum(l)/len(l)\n",
    "#this will give outlier bcoz of 100(which is too much greater comparitvely)"
   ]
  },
  {
   "cell_type": "code",
   "execution_count": null,
   "id": "02a29ecf-e84f-4287-9501-5af4fe44daac",
   "metadata": {},
   "outputs": [],
   "source": []
  },
  {
   "cell_type": "markdown",
   "id": "fed729d6-ef8e-430e-ab02-c78960e5d6e8",
   "metadata": {},
   "source": [
    "# Outlier Removal"
   ]
  },
  {
   "cell_type": "code",
   "execution_count": 12,
   "id": "8be140ac-b523-4624-b19b-11b7d7d33ccb",
   "metadata": {},
   "outputs": [],
   "source": [
    "# Q1 = 25% of overall quantile\n",
    "# Q3 = 75% of overall quantile\n",
    "# IQR = Inter Quantile range i.e range between two quantile => Q3-Q1"
   ]
  },
  {
   "cell_type": "code",
   "execution_count": 13,
   "id": "e8f1dbfc-acf6-4817-923a-9a2e6ccdca41",
   "metadata": {},
   "outputs": [
    {
     "data": {
      "text/plain": [
       "(240, 9)"
      ]
     },
     "execution_count": 13,
     "metadata": {},
     "output_type": "execute_result"
    }
   ],
   "source": [
    "#using above data now we will remove the outlier\n",
    "dataset.shape"
   ]
  },
  {
   "cell_type": "code",
   "execution_count": 14,
   "id": "7b148bd0-2cf5-4c0d-bd70-a2762d19ca4d",
   "metadata": {},
   "outputs": [
    {
     "data": {
      "text/plain": [
       "29.6225"
      ]
     },
     "execution_count": 14,
     "metadata": {},
     "output_type": "execute_result"
    }
   ],
   "source": [
    "q1 = dataset[\"Unit Price\"].quantile(0.25)\n",
    "q1"
   ]
  },
  {
   "cell_type": "code",
   "execution_count": 16,
   "id": "1bc3b6c7-c44c-4020-b66b-8d910682fe53",
   "metadata": {},
   "outputs": [
    {
     "data": {
      "text/plain": [
       "249.99"
      ]
     },
     "execution_count": 16,
     "metadata": {},
     "output_type": "execute_result"
    }
   ],
   "source": [
    "q3 = dataset[\"Unit Price\"].quantile(0.75)\n",
    "q3"
   ]
  },
  {
   "cell_type": "code",
   "execution_count": 17,
   "id": "c09cb8aa-c081-4289-851f-3ad2e7411055",
   "metadata": {},
   "outputs": [
    {
     "data": {
      "text/plain": [
       "(-300.92875, 580.54125)"
      ]
     },
     "execution_count": 17,
     "metadata": {},
     "output_type": "execute_result"
    }
   ],
   "source": [
    "IQR = q3 -q1\n",
    "min_range = q1 - (1.5*IQR)\n",
    "max_range = q3 + (1.5*IQR)\n",
    "min_range, max_range"
   ]
  },
  {
   "cell_type": "code",
   "execution_count": 24,
   "id": "d77493e4-0fd9-4a19-8647-af7f576dd09e",
   "metadata": {},
   "outputs": [
    {
     "data": {
      "text/plain": [
       "(214, 9)"
      ]
     },
     "execution_count": 24,
     "metadata": {},
     "output_type": "execute_result"
    }
   ],
   "source": [
    "#using this remove outlier\n",
    "new_ds = dataset[dataset[\"Unit Price\"] <= max_range]\n",
    "new_ds.shape"
   ]
  },
  {
   "cell_type": "code",
   "execution_count": 23,
   "id": "568221ea-e69b-4990-9792-a4db41d3e2db",
   "metadata": {},
   "outputs": [
    {
     "data": {
      "image/png": "[encoded data removed]",
      "text/plain": [
       "<Figure size 640x480 with 1 Axes>"
      ]
     },
     "metadata": {},
     "output_type": "display_data"
    }
   ],
   "source": [
    "#hence the outlier is removed\n",
    "sns.boxplot(y = \"Unit Price\", data=new_ds)\n",
    "plt.show()\n",
    "#this shows minimum outlier"
   ]
  },
  {
   "cell_type": "code",
   "execution_count": null,
   "id": "85d36682-195a-40f6-9538-1d9af4635e20",
   "metadata": {},
   "outputs": [],
   "source": []
  },
  {
   "cell_type": "markdown",
   "id": "6df87c87-de7f-4910-ae28-ae9dd2af6a5a",
   "metadata": {},
   "source": [
    "# Outlier Removal using z score"
   ]
  },
  {
   "cell_type": "code",
   "execution_count": 25,
   "id": "a885c466-1b8b-46d1-bffa-24f066ddf283",
   "metadata": {},
   "outputs": [
    {
     "data": {
      "text/plain": [
       "Transaction ID      1\n",
       "Date                0\n",
       "Product Category    4\n",
       "Product Name        1\n",
       "Units Sold          2\n",
       "Unit Price          2\n",
       "Total Revenue       1\n",
       "Region              2\n",
       "Payment Method      1\n",
       "dtype: int64"
      ]
     },
     "execution_count": 25,
     "metadata": {},
     "output_type": "execute_result"
    }
   ],
   "source": [
    "#using same dataset\n",
    "dataset.isnull().sum()"
   ]
  },
  {
   "cell_type": "code",
   "execution_count": 26,
   "id": "9933cea7-d331-4360-9fbb-26506fe9d1a0",
   "metadata": {},
   "outputs": [
    {
     "data": {
      "text/html": [
       "<div>\n",
       "<style scoped>\n",
       "    .dataframe tbody tr th:only-of-type {\n",
       "        vertical-align: middle;\n",
       "    }\n",
       "\n",
       "    .dataframe tbody tr th {\n",
       "        vertical-align: top;\n",
       "    }\n",
       "\n",
       "    .dataframe thead th {\n",
       "        text-align: right;\n",
       "    }\n",
       "</style>\n",
       "<table border=\"1\" class=\"dataframe\">\n",
       "  <thead>\n",
       "    <tr style=\"text-align: right;\">\n",
       "      <th></th>\n",
       "      <th>Transaction ID</th>\n",
       "      <th>Unit Price</th>\n",
       "      <th>Total Revenue</th>\n",
       "    </tr>\n",
       "  </thead>\n",
       "  <tbody>\n",
       "    <tr>\n",
       "      <th>count</th>\n",
       "      <td>239.000000</td>\n",
       "      <td>238.000000</td>\n",
       "      <td>239.000000</td>\n",
       "    </tr>\n",
       "    <tr>\n",
       "      <th>mean</th>\n",
       "      <td>10120.523013</td>\n",
       "      <td>238.132143</td>\n",
       "      <td>336.309038</td>\n",
       "    </tr>\n",
       "    <tr>\n",
       "      <th>std</th>\n",
       "      <td>69.571003</td>\n",
       "      <td>430.833360</td>\n",
       "      <td>486.731983</td>\n",
       "    </tr>\n",
       "    <tr>\n",
       "      <th>min</th>\n",
       "      <td>10001.000000</td>\n",
       "      <td>6.500000</td>\n",
       "      <td>6.500000</td>\n",
       "    </tr>\n",
       "    <tr>\n",
       "      <th>25%</th>\n",
       "      <td>10060.500000</td>\n",
       "      <td>29.622500</td>\n",
       "      <td>61.970000</td>\n",
       "    </tr>\n",
       "    <tr>\n",
       "      <th>50%</th>\n",
       "      <td>10121.000000</td>\n",
       "      <td>89.995000</td>\n",
       "      <td>179.970000</td>\n",
       "    </tr>\n",
       "    <tr>\n",
       "      <th>75%</th>\n",
       "      <td>10180.500000</td>\n",
       "      <td>249.990000</td>\n",
       "      <td>399.450000</td>\n",
       "    </tr>\n",
       "    <tr>\n",
       "      <th>max</th>\n",
       "      <td>10240.000000</td>\n",
       "      <td>3899.990000</td>\n",
       "      <td>3899.990000</td>\n",
       "    </tr>\n",
       "  </tbody>\n",
       "</table>\n",
       "</div>"
      ],
      "text/plain": [
       "       Transaction ID   Unit Price  Total Revenue\n",
       "count      239.000000   238.000000     239.000000\n",
       "mean     10120.523013   238.132143     336.309038\n",
       "std         69.571003   430.833360     486.731983\n",
       "min      10001.000000     6.500000       6.500000\n",
       "25%      10060.500000    29.622500      61.970000\n",
       "50%      10121.000000    89.995000     179.970000\n",
       "75%      10180.500000   249.990000     399.450000\n",
       "max      10240.000000  3899.990000    3899.990000"
      ]
     },
     "execution_count": 26,
     "metadata": {},
     "output_type": "execute_result"
    }
   ],
   "source": [
    "dataset.describe()"
   ]
  },
  {
   "cell_type": "code",
   "execution_count": 27,
   "id": "44d30830-6104-45bd-98ae-bd5ec5ea75c5",
   "metadata": {},
   "outputs": [
    {
     "data": {
      "image/png": "[encoded data removed]",
      "text/plain": [
       "<Figure size 640x480 with 1 Axes>"
      ]
     },
     "metadata": {},
     "output_type": "display_data"
    }
   ],
   "source": [
    "sns.boxplot(y = \"Unit Price\", data=dataset)\n",
    "plt.show()"
   ]
  },
  {
   "cell_type": "code",
   "execution_count": 30,
   "id": "9ae1e448-94ca-4879-9afb-b796f344b8eb",
   "metadata": {},
   "outputs": [
    {
     "name": "stderr",
     "output_type": "stream",
     "text": [
      "C:\\Users\\HP\\AppData\\Local\\Temp\\ipykernel_5584\\2019739860.py:1: UserWarning: \n",
      "\n",
      "`distplot` is a deprecated function and will be removed in seaborn v0.14.0.\n",
      "\n",
      "Please adapt your code to use either `displot` (a figure-level function with\n",
      "similar flexibility) or `histplot` (an axes-level function for histograms).\n",
      "\n",
      "For a guide to updating your code to use the new functions, please see\n",
      "https://gist.github.com/mwaskom/de44147ed2974457ad6372750bbe5751\n",
      "\n",
      "  sns.distplot(dataset[\"Unit Price\"])\n"
     ]
    },
    {
     "data": {
      "image/png": "[encoded data removed]",
      "text/plain": [
       "<Figure size 640x480 with 1 Axes>"
      ]
     },
     "metadata": {},
     "output_type": "display_data"
    }
   ],
   "source": [
    "sns.distplot(dataset[\"Unit Price\"])\n",
    "plt.show()"
   ]
  },
  {
   "cell_type": "code",
   "execution_count": 31,
   "id": "500511b3-1165-46ca-b339-b52ce27fbda7",
   "metadata": {},
   "outputs": [
    {
     "data": {
      "text/plain": [
       "(-1054.3679377677913, 1530.6322234820768)"
      ]
     },
     "execution_count": 31,
     "metadata": {},
     "output_type": "execute_result"
    }
   ],
   "source": [
    "min_range = dataset[\"Unit Price\"].mean() - (3*dataset[\"Unit Price\"].std())\n",
    "max_range = dataset[\"Unit Price\"].mean() + (3*dataset[\"Unit Price\"].std())\n",
    "min_range, max_range"
   ]
  },
  {
   "cell_type": "code",
   "execution_count": 32,
   "id": "992fc5d4-8445-44c4-9277-7a6dcf6322ad",
   "metadata": {},
   "outputs": [],
   "source": [
    "# -ve range at min_range => no outlier\n",
    "# too much range value at max_range => outlier"
   ]
  },
  {
   "cell_type": "code",
   "execution_count": 33,
   "id": "fba38f73-c206-44e4-9496-846ad6e40aa0",
   "metadata": {},
   "outputs": [
    {
     "data": {
      "text/html": [
       "<div>\n",
       "<style scoped>\n",
       "    .dataframe tbody tr th:only-of-type {\n",
       "        vertical-align: middle;\n",
       "    }\n",
       "\n",
       "    .dataframe tbody tr th {\n",
       "        vertical-align: top;\n",
       "    }\n",
       "\n",
       "    .dataframe thead th {\n",
       "        text-align: right;\n",
       "    }\n",
       "</style>\n",
       "<table border=\"1\" class=\"dataframe\">\n",
       "  <thead>\n",
       "    <tr style=\"text-align: right;\">\n",
       "      <th></th>\n",
       "      <th>Transaction ID</th>\n",
       "      <th>Date</th>\n",
       "      <th>Product Category</th>\n",
       "      <th>Product Name</th>\n",
       "      <th>Units Sold</th>\n",
       "      <th>Unit Price</th>\n",
       "      <th>Total Revenue</th>\n",
       "      <th>Region</th>\n",
       "      <th>Payment Method</th>\n",
       "    </tr>\n",
       "  </thead>\n",
       "  <tbody>\n",
       "    <tr>\n",
       "      <th>0</th>\n",
       "      <td>10001.0</td>\n",
       "      <td>01-01-2024</td>\n",
       "      <td>NaN</td>\n",
       "      <td>iPhone 14 Pro</td>\n",
       "      <td>2</td>\n",
       "      <td>999.99</td>\n",
       "      <td>1999.98</td>\n",
       "      <td>North America</td>\n",
       "      <td>Credit Card</td>\n",
       "    </tr>\n",
       "    <tr>\n",
       "      <th>1</th>\n",
       "      <td>10002.0</td>\n",
       "      <td>02-01-2024</td>\n",
       "      <td>Home Appliances</td>\n",
       "      <td>Dyson V11 Vacuum</td>\n",
       "      <td>1</td>\n",
       "      <td>499.99</td>\n",
       "      <td>499.99</td>\n",
       "      <td>Europe</td>\n",
       "      <td>PayPal</td>\n",
       "    </tr>\n",
       "    <tr>\n",
       "      <th>2</th>\n",
       "      <td>10003.0</td>\n",
       "      <td>03-01-2024</td>\n",
       "      <td>Clothing</td>\n",
       "      <td>Levi's 501 Jeans</td>\n",
       "      <td>3</td>\n",
       "      <td>69.99</td>\n",
       "      <td>209.97</td>\n",
       "      <td>Asia</td>\n",
       "      <td>Debit Card</td>\n",
       "    </tr>\n",
       "    <tr>\n",
       "      <th>3</th>\n",
       "      <td>10004.0</td>\n",
       "      <td>04-01-2024</td>\n",
       "      <td>Books</td>\n",
       "      <td>The Da Vinci Code</td>\n",
       "      <td>4</td>\n",
       "      <td>15.99</td>\n",
       "      <td>63.96</td>\n",
       "      <td>North America</td>\n",
       "      <td>Credit Card</td>\n",
       "    </tr>\n",
       "    <tr>\n",
       "      <th>4</th>\n",
       "      <td>10005.0</td>\n",
       "      <td>05-01-2024</td>\n",
       "      <td>Beauty Products</td>\n",
       "      <td>Neutrogena Skincare Set</td>\n",
       "      <td>1</td>\n",
       "      <td>89.99</td>\n",
       "      <td>89.99</td>\n",
       "      <td>Europe</td>\n",
       "      <td>PayPal</td>\n",
       "    </tr>\n",
       "    <tr>\n",
       "      <th>...</th>\n",
       "      <td>...</td>\n",
       "      <td>...</td>\n",
       "      <td>...</td>\n",
       "      <td>...</td>\n",
       "      <td>...</td>\n",
       "      <td>...</td>\n",
       "      <td>...</td>\n",
       "      <td>...</td>\n",
       "      <td>...</td>\n",
       "    </tr>\n",
       "    <tr>\n",
       "      <th>235</th>\n",
       "      <td>10236.0</td>\n",
       "      <td>23-08-2024</td>\n",
       "      <td>Home Appliances</td>\n",
       "      <td>Nespresso Vertuo Next Coffee and Espresso Maker</td>\n",
       "      <td>1</td>\n",
       "      <td>159.99</td>\n",
       "      <td>159.99</td>\n",
       "      <td>Europe</td>\n",
       "      <td>PayPal</td>\n",
       "    </tr>\n",
       "    <tr>\n",
       "      <th>236</th>\n",
       "      <td>10237.0</td>\n",
       "      <td>24-08-2024</td>\n",
       "      <td>NaN</td>\n",
       "      <td>Nike Air Force 1 Sneakers</td>\n",
       "      <td>3</td>\n",
       "      <td>90.00</td>\n",
       "      <td>270.00</td>\n",
       "      <td>Asia</td>\n",
       "      <td>Debit Card</td>\n",
       "    </tr>\n",
       "    <tr>\n",
       "      <th>237</th>\n",
       "      <td>10238.0</td>\n",
       "      <td>25-08-2024</td>\n",
       "      <td>Books</td>\n",
       "      <td>The Handmaid's Tale by Margaret Atwood</td>\n",
       "      <td>3</td>\n",
       "      <td>10.99</td>\n",
       "      <td>32.97</td>\n",
       "      <td>North America</td>\n",
       "      <td>Credit Card</td>\n",
       "    </tr>\n",
       "    <tr>\n",
       "      <th>238</th>\n",
       "      <td>10239.0</td>\n",
       "      <td>26-08-2024</td>\n",
       "      <td>Beauty Products</td>\n",
       "      <td>Sunday Riley Luna Sleeping Night Oil</td>\n",
       "      <td>1</td>\n",
       "      <td>55.00</td>\n",
       "      <td>55.00</td>\n",
       "      <td>Europe</td>\n",
       "      <td>PayPal</td>\n",
       "    </tr>\n",
       "    <tr>\n",
       "      <th>239</th>\n",
       "      <td>10240.0</td>\n",
       "      <td>27-08-2024</td>\n",
       "      <td>Sports</td>\n",
       "      <td>Yeti Rambler 20 oz Tumbler</td>\n",
       "      <td>2</td>\n",
       "      <td>29.99</td>\n",
       "      <td>59.98</td>\n",
       "      <td>Asia</td>\n",
       "      <td>Credit Card</td>\n",
       "    </tr>\n",
       "  </tbody>\n",
       "</table>\n",
       "<p>233 rows × 9 columns</p>\n",
       "</div>"
      ],
      "text/plain": [
       "     Transaction ID        Date Product Category  \\\n",
       "0           10001.0  01-01-2024              NaN   \n",
       "1           10002.0  02-01-2024  Home Appliances   \n",
       "2           10003.0  03-01-2024         Clothing   \n",
       "3           10004.0  04-01-2024            Books   \n",
       "4           10005.0  05-01-2024  Beauty Products   \n",
       "..              ...         ...              ...   \n",
       "235         10236.0  23-08-2024  Home Appliances   \n",
       "236         10237.0  24-08-2024              NaN   \n",
       "237         10238.0  25-08-2024            Books   \n",
       "238         10239.0  26-08-2024  Beauty Products   \n",
       "239         10240.0  27-08-2024           Sports   \n",
       "\n",
       "                                        Product Name Units Sold  Unit Price  \\\n",
       "0                                      iPhone 14 Pro          2      999.99   \n",
       "1                                   Dyson V11 Vacuum          1      499.99   \n",
       "2                                   Levi's 501 Jeans          3       69.99   \n",
       "3                                  The Da Vinci Code          4       15.99   \n",
       "4                            Neutrogena Skincare Set          1       89.99   \n",
       "..                                               ...        ...         ...   \n",
       "235  Nespresso Vertuo Next Coffee and Espresso Maker          1      159.99   \n",
       "236                        Nike Air Force 1 Sneakers          3       90.00   \n",
       "237           The Handmaid's Tale by Margaret Atwood          3       10.99   \n",
       "238             Sunday Riley Luna Sleeping Night Oil          1       55.00   \n",
       "239                       Yeti Rambler 20 oz Tumbler          2       29.99   \n",
       "\n",
       "     Total Revenue         Region Payment Method  \n",
       "0          1999.98  North America    Credit Card  \n",
       "1           499.99         Europe         PayPal  \n",
       "2           209.97           Asia     Debit Card  \n",
       "3            63.96  North America    Credit Card  \n",
       "4            89.99         Europe         PayPal  \n",
       "..             ...            ...            ...  \n",
       "235         159.99         Europe         PayPal  \n",
       "236         270.00           Asia     Debit Card  \n",
       "237          32.97  North America    Credit Card  \n",
       "238          55.00         Europe         PayPal  \n",
       "239          59.98           Asia    Credit Card  \n",
       "\n",
       "[233 rows x 9 columns]"
      ]
     },
     "execution_count": 33,
     "metadata": {},
     "output_type": "execute_result"
    }
   ],
   "source": [
    "new_data = dataset[dataset[\"Unit Price\"] <= max_range]\n",
    "new_data"
   ]
  },
  {
   "cell_type": "code",
   "execution_count": 34,
   "id": "13acbba6-714f-4bc7-913e-756bc4afd9be",
   "metadata": {},
   "outputs": [
    {
     "data": {
      "image/png": "[encoded data removed]",
      "text/plain": [
       "<Figure size 640x480 with 1 Axes>"
      ]
     },
     "metadata": {},
     "output_type": "display_data"
    }
   ],
   "source": [
    "sns.boxplot(y = \"Unit Price\", data=new_data)\n",
    "plt.show()"
   ]
  },
  {
   "cell_type": "code",
   "execution_count": 35,
   "id": "6251044a-0702-4a88-b6da-d4d38f78f481",
   "metadata": {},
   "outputs": [],
   "source": [
    "# more number of removal of outlier , more number of data will be lost\n",
    "# also as data lost , more feature will also lost"
   ]
  },
  {
   "cell_type": "code",
   "execution_count": 41,
   "id": "8724c789-693b-416f-883e-2a5c4411f81b",
   "metadata": {},
   "outputs": [
    {
     "data": {
      "text/plain": [
       "0      1.768335\n",
       "1      0.607794\n",
       "2     -0.390272\n",
       "3     -0.515610\n",
       "4     -0.343850\n",
       "         ...   \n",
       "235   -0.181374\n",
       "236   -0.343827\n",
       "237   -0.527216\n",
       "238   -0.425065\n",
       "239   -0.483115\n",
       "Name: Unit Price, Length: 240, dtype: float64"
      ]
     },
     "execution_count": 41,
     "metadata": {},
     "output_type": "execute_result"
    }
   ],
   "source": [
    "z_score = (dataset[\"Unit Price\"] - dataset[\"Unit Price\"].mean()) / (dataset[\"Unit Price\"].std())\n",
    "z_score "
   ]
  },
  {
   "cell_type": "code",
   "execution_count": 43,
   "id": "91c91814-6980-4d65-b2b5-2fb111a0c57d",
   "metadata": {},
   "outputs": [
    {
     "data": {
      "text/html": [
       "<div>\n",
       "<style scoped>\n",
       "    .dataframe tbody tr th:only-of-type {\n",
       "        vertical-align: middle;\n",
       "    }\n",
       "\n",
       "    .dataframe tbody tr th {\n",
       "        vertical-align: top;\n",
       "    }\n",
       "\n",
       "    .dataframe thead th {\n",
       "        text-align: right;\n",
       "    }\n",
       "</style>\n",
       "<table border=\"1\" class=\"dataframe\">\n",
       "  <thead>\n",
       "    <tr style=\"text-align: right;\">\n",
       "      <th></th>\n",
       "      <th>Transaction ID</th>\n",
       "      <th>Date</th>\n",
       "      <th>Product Category</th>\n",
       "      <th>Product Name</th>\n",
       "      <th>Units Sold</th>\n",
       "      <th>Unit Price</th>\n",
       "      <th>Total Revenue</th>\n",
       "      <th>Region</th>\n",
       "      <th>Payment Method</th>\n",
       "      <th>z_score</th>\n",
       "    </tr>\n",
       "  </thead>\n",
       "  <tbody>\n",
       "    <tr>\n",
       "      <th>0</th>\n",
       "      <td>10001.0</td>\n",
       "      <td>01-01-2024</td>\n",
       "      <td>NaN</td>\n",
       "      <td>iPhone 14 Pro</td>\n",
       "      <td>2</td>\n",
       "      <td>999.99</td>\n",
       "      <td>1999.98</td>\n",
       "      <td>North America</td>\n",
       "      <td>Credit Card</td>\n",
       "      <td>1.768335</td>\n",
       "    </tr>\n",
       "    <tr>\n",
       "      <th>1</th>\n",
       "      <td>10002.0</td>\n",
       "      <td>02-01-2024</td>\n",
       "      <td>Home Appliances</td>\n",
       "      <td>Dyson V11 Vacuum</td>\n",
       "      <td>1</td>\n",
       "      <td>499.99</td>\n",
       "      <td>499.99</td>\n",
       "      <td>Europe</td>\n",
       "      <td>PayPal</td>\n",
       "      <td>0.607794</td>\n",
       "    </tr>\n",
       "    <tr>\n",
       "      <th>2</th>\n",
       "      <td>10003.0</td>\n",
       "      <td>03-01-2024</td>\n",
       "      <td>Clothing</td>\n",
       "      <td>Levi's 501 Jeans</td>\n",
       "      <td>3</td>\n",
       "      <td>69.99</td>\n",
       "      <td>209.97</td>\n",
       "      <td>Asia</td>\n",
       "      <td>Debit Card</td>\n",
       "      <td>-0.390272</td>\n",
       "    </tr>\n",
       "    <tr>\n",
       "      <th>3</th>\n",
       "      <td>10004.0</td>\n",
       "      <td>04-01-2024</td>\n",
       "      <td>Books</td>\n",
       "      <td>The Da Vinci Code</td>\n",
       "      <td>4</td>\n",
       "      <td>15.99</td>\n",
       "      <td>63.96</td>\n",
       "      <td>North America</td>\n",
       "      <td>Credit Card</td>\n",
       "      <td>-0.515610</td>\n",
       "    </tr>\n",
       "    <tr>\n",
       "      <th>4</th>\n",
       "      <td>10005.0</td>\n",
       "      <td>05-01-2024</td>\n",
       "      <td>Beauty Products</td>\n",
       "      <td>Neutrogena Skincare Set</td>\n",
       "      <td>1</td>\n",
       "      <td>89.99</td>\n",
       "      <td>89.99</td>\n",
       "      <td>Europe</td>\n",
       "      <td>PayPal</td>\n",
       "      <td>-0.343850</td>\n",
       "    </tr>\n",
       "    <tr>\n",
       "      <th>...</th>\n",
       "      <td>...</td>\n",
       "      <td>...</td>\n",
       "      <td>...</td>\n",
       "      <td>...</td>\n",
       "      <td>...</td>\n",
       "      <td>...</td>\n",
       "      <td>...</td>\n",
       "      <td>...</td>\n",
       "      <td>...</td>\n",
       "      <td>...</td>\n",
       "    </tr>\n",
       "    <tr>\n",
       "      <th>235</th>\n",
       "      <td>10236.0</td>\n",
       "      <td>23-08-2024</td>\n",
       "      <td>Home Appliances</td>\n",
       "      <td>Nespresso Vertuo Next Coffee and Espresso Maker</td>\n",
       "      <td>1</td>\n",
       "      <td>159.99</td>\n",
       "      <td>159.99</td>\n",
       "      <td>Europe</td>\n",
       "      <td>PayPal</td>\n",
       "      <td>-0.181374</td>\n",
       "    </tr>\n",
       "    <tr>\n",
       "      <th>236</th>\n",
       "      <td>10237.0</td>\n",
       "      <td>24-08-2024</td>\n",
       "      <td>NaN</td>\n",
       "      <td>Nike Air Force 1 Sneakers</td>\n",
       "      <td>3</td>\n",
       "      <td>90.00</td>\n",
       "      <td>270.00</td>\n",
       "      <td>Asia</td>\n",
       "      <td>Debit Card</td>\n",
       "      <td>-0.343827</td>\n",
       "    </tr>\n",
       "    <tr>\n",
       "      <th>237</th>\n",
       "      <td>10238.0</td>\n",
       "      <td>25-08-2024</td>\n",
       "      <td>Books</td>\n",
       "      <td>The Handmaid's Tale by Margaret Atwood</td>\n",
       "      <td>3</td>\n",
       "      <td>10.99</td>\n",
       "      <td>32.97</td>\n",
       "      <td>North America</td>\n",
       "      <td>Credit Card</td>\n",
       "      <td>-0.527216</td>\n",
       "    </tr>\n",
       "    <tr>\n",
       "      <th>238</th>\n",
       "      <td>10239.0</td>\n",
       "      <td>26-08-2024</td>\n",
       "      <td>Beauty Products</td>\n",
       "      <td>Sunday Riley Luna Sleeping Night Oil</td>\n",
       "      <td>1</td>\n",
       "      <td>55.00</td>\n",
       "      <td>55.00</td>\n",
       "      <td>Europe</td>\n",
       "      <td>PayPal</td>\n",
       "      <td>-0.425065</td>\n",
       "    </tr>\n",
       "    <tr>\n",
       "      <th>239</th>\n",
       "      <td>10240.0</td>\n",
       "      <td>27-08-2024</td>\n",
       "      <td>Sports</td>\n",
       "      <td>Yeti Rambler 20 oz Tumbler</td>\n",
       "      <td>2</td>\n",
       "      <td>29.99</td>\n",
       "      <td>59.98</td>\n",
       "      <td>Asia</td>\n",
       "      <td>Credit Card</td>\n",
       "      <td>-0.483115</td>\n",
       "    </tr>\n",
       "  </tbody>\n",
       "</table>\n",
       "<p>233 rows × 10 columns</p>\n",
       "</div>"
      ],
      "text/plain": [
       "     Transaction ID        Date Product Category  \\\n",
       "0           10001.0  01-01-2024              NaN   \n",
       "1           10002.0  02-01-2024  Home Appliances   \n",
       "2           10003.0  03-01-2024         Clothing   \n",
       "3           10004.0  04-01-2024            Books   \n",
       "4           10005.0  05-01-2024  Beauty Products   \n",
       "..              ...         ...              ...   \n",
       "235         10236.0  23-08-2024  Home Appliances   \n",
       "236         10237.0  24-08-2024              NaN   \n",
       "237         10238.0  25-08-2024            Books   \n",
       "238         10239.0  26-08-2024  Beauty Products   \n",
       "239         10240.0  27-08-2024           Sports   \n",
       "\n",
       "                                        Product Name Units Sold  Unit Price  \\\n",
       "0                                      iPhone 14 Pro          2      999.99   \n",
       "1                                   Dyson V11 Vacuum          1      499.99   \n",
       "2                                   Levi's 501 Jeans          3       69.99   \n",
       "3                                  The Da Vinci Code          4       15.99   \n",
       "4                            Neutrogena Skincare Set          1       89.99   \n",
       "..                                               ...        ...         ...   \n",
       "235  Nespresso Vertuo Next Coffee and Espresso Maker          1      159.99   \n",
       "236                        Nike Air Force 1 Sneakers          3       90.00   \n",
       "237           The Handmaid's Tale by Margaret Atwood          3       10.99   \n",
       "238             Sunday Riley Luna Sleeping Night Oil          1       55.00   \n",
       "239                       Yeti Rambler 20 oz Tumbler          2       29.99   \n",
       "\n",
       "     Total Revenue         Region Payment Method   z_score  \n",
       "0          1999.98  North America    Credit Card  1.768335  \n",
       "1           499.99         Europe         PayPal  0.607794  \n",
       "2           209.97           Asia     Debit Card -0.390272  \n",
       "3            63.96  North America    Credit Card -0.515610  \n",
       "4            89.99         Europe         PayPal -0.343850  \n",
       "..             ...            ...            ...       ...  \n",
       "235         159.99         Europe         PayPal -0.181374  \n",
       "236         270.00           Asia     Debit Card -0.343827  \n",
       "237          32.97  North America    Credit Card -0.527216  \n",
       "238          55.00         Europe         PayPal -0.425065  \n",
       "239          59.98           Asia    Credit Card -0.483115  \n",
       "\n",
       "[233 rows x 10 columns]"
      ]
     },
     "execution_count": 43,
     "metadata": {},
     "output_type": "execute_result"
    }
   ],
   "source": [
    "#this will add this z_score column to dataset\n",
    "dataset[\"z_score\"] = z_score\n",
    "dataset[dataset[\"z_score\"] <3]"
   ]
  },
  {
   "cell_type": "code",
   "execution_count": null,
   "id": "0e1088cc-8b04-4e3d-98d7-1c4084088393",
   "metadata": {},
   "outputs": [],
   "source": []
  }
 ],
 "metadata": {
  "kernelspec": {
   "display_name": "Python 3 (ipykernel)",
   "language": "python",
   "name": "python3"
  },
  "language_info": {
   "codemirror_mode": {
    "name": "ipython",
    "version": 3
   },
   "file_extension": ".py",
   "mimetype": "text/x-python",
   "name": "python",
   "nbconvert_exporter": "python",
   "pygments_lexer": "ipython3",
   "version": "3.12.0"
  }
 },
 "nbformat": 4,
 "nbformat_minor": 5
}
