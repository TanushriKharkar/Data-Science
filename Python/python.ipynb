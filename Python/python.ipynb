{
 "cells": [
  {
   "cell_type": "markdown",
   "id": "7323900c-3756-4780-a624-127c5497cb1f",
   "metadata": {},
   "source": [
    "# Hello World programme "
   ]
  },
  {
   "cell_type": "code",
   "execution_count": 1,
   "id": "17023cbf-850a-47b6-b665-b32362b075b5",
   "metadata": {},
   "outputs": [
    {
     "name": "stdout",
     "output_type": "stream",
     "text": [
      "hello \n"
     ]
    }
   ],
   "source": [
    "print (\"hello \")"
   ]
  },
  {
   "cell_type": "markdown",
   "id": "b9e0131a-5c13-4ef4-8da7-8ada822355ef",
   "metadata": {},
   "source": [
    "## variables\n"
   ]
  },
  {
   "cell_type": "code",
   "execution_count": 3,
   "id": "e73fafcb-e278-4e20-9581-22e32507be7d",
   "metadata": {},
   "outputs": [
    {
     "name": "stdout",
     "output_type": "stream",
     "text": [
      " my name is abhi \n"
     ]
    }
   ],
   "source": [
    "name =\" my name is abhi \"\n",
    "print (name)"
   ]
  },
  {
   "cell_type": "code",
   "execution_count": 1,
   "id": "191e4a20-e222-445c-af09-421a20af3045",
   "metadata": {},
   "outputs": [
    {
     "name": "stdout",
     "output_type": "stream",
     "text": [
      "22\n"
     ]
    }
   ],
   "source": [
    "age = 22\n",
    "print(age)"
   ]
  },
  {
   "cell_type": "code",
   "execution_count": 2,
   "id": "5d329de6-7694-4306-a796-8295f1c428ac",
   "metadata": {},
   "outputs": [
    {
     "name": "stdout",
     "output_type": "stream",
     "text": [
      "60.4\n"
     ]
    }
   ],
   "source": [
    "percent = 60.4\n",
    "print(percent)"
   ]
  },
  {
   "cell_type": "code",
   "execution_count": 3,
   "id": "b2de7c0c-b6d0-40f8-901f-4ad602e2e6eb",
   "metadata": {},
   "outputs": [
    {
     "name": "stdout",
     "output_type": "stream",
     "text": [
      "True\n"
     ]
    }
   ],
   "source": [
    "is_correct = True\n",
    "print(is_correct)"
   ]
  },
  {
   "cell_type": "markdown",
   "id": "b66dd3e9-bca2-4887-97d5-2db9f49a4651",
   "metadata": {},
   "source": [
    "## Inputs"
   ]
  },
  {
   "cell_type": "code",
   "execution_count": 4,
   "id": "42dd166f-c2ad-4de1-a8fe-240dcc25eb20",
   "metadata": {},
   "outputs": [
    {
     "name": "stdin",
     "output_type": "stream",
     "text": [
      "What is your name ?  Tanushri\n"
     ]
    },
    {
     "name": "stdout",
     "output_type": "stream",
     "text": [
      "Tanushri\n"
     ]
    }
   ],
   "source": [
    "name = input(\"What is your name ? \")\n",
    "print(name)"
   ]
  },
  {
   "cell_type": "markdown",
   "id": "e94665f6-cc00-47a4-8c09-890549587f9f",
   "metadata": {},
   "source": [
    "## Concatenation"
   ]
  },
  {
   "cell_type": "code",
   "execution_count": 6,
   "id": "4b70ab7f-d9f5-47de-81d1-2488e45c1742",
   "metadata": {},
   "outputs": [
    {
     "name": "stdin",
     "output_type": "stream",
     "text": [
      "What is your name ? Meena\n"
     ]
    },
    {
     "name": "stdout",
     "output_type": "stream",
     "text": [
      "Heyyy Meena\n"
     ]
    }
   ],
   "source": [
    "name = input(\"What is your name ?\")\n",
    "print(\"Heyyy \" + name)"
   ]
  },
  {
   "cell_type": "markdown",
   "id": "257767d7-b92b-405e-aa62-ca3c83e88442",
   "metadata": {},
   "source": [
    "## Type conversion"
   ]
  },
  {
   "cell_type": "code",
   "execution_count": 7,
   "id": "2ba67897-0423-4b7c-9edf-d981d239ad3c",
   "metadata": {},
   "outputs": [
    {
     "name": "stdin",
     "output_type": "stream",
     "text": [
      "What is your old age :  10\n"
     ]
    },
    {
     "name": "stdout",
     "output_type": "stream",
     "text": [
      "12\n"
     ]
    }
   ],
   "source": [
    "old_age = input(\"What is your old age : \")\n",
    "new_age = int(old_age) + 2\n",
    "print(new_age)"
   ]
  },
  {
   "cell_type": "code",
   "execution_count": 8,
   "id": "7816754b-c81a-4622-9902-9f7b69d78ee6",
   "metadata": {},
   "outputs": [
    {
     "name": "stdout",
     "output_type": "stream",
     "text": [
      "45.0\n"
     ]
    }
   ],
   "source": [
    "num = 45\n",
    "print(float(num))"
   ]
  },
  {
   "cell_type": "markdown",
   "id": "298d2327-fc9c-4340-9d57-a545201bbd41",
   "metadata": {},
   "source": [
    "### sum of two numbers"
   ]
  },
  {
   "cell_type": "code",
   "execution_count": 12,
   "id": "ee278d38-994f-4e69-92cc-3e1aeffc855e",
   "metadata": {},
   "outputs": [
    {
     "name": "stdin",
     "output_type": "stream",
     "text": [
      "enter first number :  20\n",
      "enter second number :  40\n"
     ]
    },
    {
     "name": "stdout",
     "output_type": "stream",
     "text": [
      "The sum is : 60\n"
     ]
    }
   ],
   "source": [
    "first = input(\"enter first number : \")\n",
    "second = input(\"enter second number : \")\n",
    "sum = int(first) + int(second)\n",
    "print(\"The sum is : \" + str(sum))"
   ]
  },
  {
   "cell_type": "markdown",
   "id": "e6a65449-8c01-48df-8038-cad437bd2d40",
   "metadata": {},
   "source": [
    "## Strings"
   ]
  },
  {
   "cell_type": "code",
   "execution_count": 14,
   "id": "e8697bdc-3980-423c-8278-3a09e1b8da0e",
   "metadata": {},
   "outputs": [
    {
     "name": "stdout",
     "output_type": "stream",
     "text": [
      "YELLOW\n",
      "yellow\n",
      "4\n",
      "Fellow\n"
     ]
    }
   ],
   "source": [
    "color = \"Yellow\"\n",
    "print(color.upper())\n",
    "print(color.lower())\n",
    "print(color.find('o'))\n",
    "print(color.replace('Y', 'F'))"
   ]
  },
  {
   "cell_type": "code",
   "execution_count": 15,
   "id": "445ebe1d-98e1-42da-a699-8c779794ea6a",
   "metadata": {},
   "outputs": [
    {
     "name": "stdout",
     "output_type": "stream",
     "text": [
      "True\n",
      "False\n"
     ]
    }
   ],
   "source": [
    "place = \"Greece\"\n",
    "print(\"Greece\" in place)\n",
    "print(\"Paris\" in place)"
   ]
  },
  {
   "cell_type": "markdown",
   "id": "b996bac8-1eda-4073-9005-106ffb8afee6",
   "metadata": {},
   "source": [
    "## Airthmetic operations"
   ]
  },
  {
   "cell_type": "code",
   "execution_count": 29,
   "id": "2eb626f5-6acf-444e-9d89-79a8b26d33a2",
   "metadata": {},
   "outputs": [
    {
     "name": "stdout",
     "output_type": "stream",
     "text": [
      "35\n",
      "5\n",
      "300\n",
      "1.3333333333333333\n",
      "1\n",
      "5\n",
      "400\n"
     ]
    }
   ],
   "source": [
    "print(20 + 15) \n",
    "print(20 - 15)\n",
    "print(20 * 15)\n",
    "print(20 / 15)\n",
    "print(20 // 15)  #round off\n",
    "print(20 % 15)   #reminder\n",
    "print(20 ** 2)   # power of"
   ]
  },
  {
   "cell_type": "code",
   "execution_count": 27,
   "id": "148c626f-ebb6-4eb3-9d40-fdc61a6f59ce",
   "metadata": {},
   "outputs": [
    {
     "name": "stdout",
     "output_type": "stream",
     "text": [
      "8\n"
     ]
    }
   ],
   "source": [
    "i = 4\n",
    "i *= 2\n",
    "print(i)\n"
   ]
  },
  {
   "cell_type": "markdown",
   "id": "3603b2e6-1aec-405a-b04d-9b3ebe213df0",
   "metadata": {},
   "source": [
    "## operator Precedence"
   ]
  },
  {
   "cell_type": "code",
   "execution_count": 28,
   "id": "3806cb70-fe4f-4ddc-8417-137f8ad3520d",
   "metadata": {},
   "outputs": [
    {
     "name": "stdout",
     "output_type": "stream",
     "text": [
      "42\n"
     ]
    }
   ],
   "source": [
    "#bracket\n",
    "#division or multiply\n",
    "#add or subtract\n",
    "res = 22 + 10 * 2\n",
    "print(res)"
   ]
  },
  {
   "cell_type": "markdown",
   "id": "766df42b-2a71-4f4c-8e22-ce16efb53745",
   "metadata": {},
   "source": [
    "## Comparision Operator"
   ]
  },
  {
   "cell_type": "code",
   "execution_count": 31,
   "id": "633254a2-5c53-485a-8618-504140d3609a",
   "metadata": {},
   "outputs": [
    {
     "name": "stdout",
     "output_type": "stream",
     "text": [
      "False\n",
      "True\n",
      "False\n",
      "True\n",
      "True\n",
      "True\n"
     ]
    }
   ],
   "source": [
    "print(2 > 3)\n",
    "print(2 < 3)\n",
    "print(2 >= 3)\n",
    "print(2 <= 3)\n",
    "print(3 == 3)\n",
    "print(2 != 3)"
   ]
  },
  {
   "cell_type": "markdown",
   "id": "32200ddb-b288-4c94-b455-65db75f3cf4d",
   "metadata": {},
   "source": [
    "## Logical Operators"
   ]
  },
  {
   "cell_type": "code",
   "execution_count": 33,
   "id": "da43d207-a38c-42a4-94be-e1d6adf27a6a",
   "metadata": {},
   "outputs": [
    {
     "name": "stdout",
     "output_type": "stream",
     "text": [
      "True\n",
      "True\n",
      "False\n"
     ]
    }
   ],
   "source": [
    "#or = any one expression need to be true otherwise it will return false\n",
    "print(2>3 or 2>1)\n",
    "#and = both expression need to be true otherwise it will return false\n",
    "print(3>2 and 2>1)\n",
    "#not = one expression is false then it return true or viceversa\n",
    "print(not 2>1)"
   ]
  },
  {
   "cell_type": "markdown",
   "id": "4060bb94-c3e6-497c-8c35-5ba50ea08c16",
   "metadata": {},
   "source": [
    "## if-else statement"
   ]
  },
  {
   "cell_type": "code",
   "execution_count": 34,
   "id": "d8d9a4c9-1eeb-477d-b782-cc26e401c184",
   "metadata": {},
   "outputs": [
    {
     "name": "stdout",
     "output_type": "stream",
     "text": [
      "you are adult\n",
      "thanks\n"
     ]
    }
   ],
   "source": [
    "age = 20\n",
    "if age >= 18:  # colon(:) is used to show block of sentences/code\n",
    "    print(\"you are adult\")\n",
    "\n",
    "print(\"thanks\")"
   ]
  },
  {
   "cell_type": "code",
   "execution_count": 36,
   "id": "16d2b7f8-93e6-4efb-ac63-13ee93117b79",
   "metadata": {},
   "outputs": [
    {
     "name": "stdout",
     "output_type": "stream",
     "text": [
      "you are kid\n",
      "thanks\n"
     ]
    }
   ],
   "source": [
    "age = 2\n",
    "if age >= 18: \n",
    "    print(\"you are adult\")\n",
    "    \n",
    "elif age < 18 and age > 3:\n",
    "    print(\"you are in school\")\n",
    "    \n",
    "else:\n",
    "    print(\"you are kid\")\n",
    "\n",
    "print(\"thanks\")"
   ]
  },
  {
   "cell_type": "markdown",
   "id": "a7a02bf0-cbcc-4516-83d9-d94fb3ad7275",
   "metadata": {},
   "source": [
    "### Mini calculator"
   ]
  },
  {
   "cell_type": "code",
   "execution_count": 43,
   "id": "b03b955d-a762-4d2b-8441-d9be037e83f7",
   "metadata": {},
   "outputs": [
    {
     "name": "stdin",
     "output_type": "stream",
     "text": [
      "enter first number :  2\n",
      "enter operator (+, -, *, /, %) : *\n",
      "enter second number :  2\n"
     ]
    },
    {
     "name": "stdout",
     "output_type": "stream",
     "text": [
      "4\n"
     ]
    }
   ],
   "source": [
    "first = input(\"enter first number : \")\n",
    "operator = input(\"enter operator (+, -, *, /, %) :\")\n",
    "second = input(\"enter second number : \")\n",
    "\n",
    "if operator == \"+\":\n",
    "    print(int(first) + int(second))\n",
    "elif operator == \"-\":\n",
    "    print(int(first) - int(second))\n",
    "elif operator == \"*\":\n",
    "    print(int(first) *int(second))\n",
    "elif operator == \"/\":\n",
    "    print(int(first) / int(second))\n",
    "elif operator == \"%\":\n",
    "    print(int(first) % int(second))\n",
    "else:\n",
    "    print(\"invalid operator\")"
   ]
  },
  {
   "cell_type": "markdown",
   "id": "20499ee1-b524-4dc0-ad8a-db85563a278b",
   "metadata": {},
   "source": [
    "## Range"
   ]
  },
  {
   "cell_type": "code",
   "execution_count": 44,
   "id": "e097a93b-af2a-4f20-b110-87d924ea016c",
   "metadata": {},
   "outputs": [
    {
     "name": "stdout",
     "output_type": "stream",
     "text": [
      "range(0, 10)\n"
     ]
    }
   ],
   "source": [
    "num = range(10)\n",
    "print(num)         # 10 is not included in range"
   ]
  },
  {
   "cell_type": "markdown",
   "id": "44280a59-3f7f-490b-a88b-1f3188ee698b",
   "metadata": {},
   "source": [
    "## While Loop"
   ]
  },
  {
   "cell_type": "code",
   "execution_count": 45,
   "id": "72e2ba34-283e-4826-a719-ad9ca8dfac73",
   "metadata": {},
   "outputs": [
    {
     "name": "stdout",
     "output_type": "stream",
     "text": [
      "1\n",
      "2\n",
      "3\n",
      "4\n",
      "5\n"
     ]
    }
   ],
   "source": [
    "i = 1\n",
    "while i <= 5:\n",
    "    print(i)\n",
    "    i +=1"
   ]
  },
  {
   "cell_type": "code",
   "execution_count": 46,
   "id": "91e5a45d-6930-4687-b206-6289f0e1481a",
   "metadata": {},
   "outputs": [
    {
     "name": "stdout",
     "output_type": "stream",
     "text": [
      "*\n",
      "**\n",
      "***\n",
      "****\n",
      "*****\n",
      "******\n"
     ]
    }
   ],
   "source": [
    "i = 1\n",
    "while i <= 6:\n",
    "    print(i * \"*\")\n",
    "    i += 1"
   ]
  },
  {
   "cell_type": "markdown",
   "id": "84e5332a-cff4-49ab-8222-dd6a5372a5a1",
   "metadata": {},
   "source": [
    "## for Loop"
   ]
  },
  {
   "cell_type": "code",
   "execution_count": 47,
   "id": "9c8b0bb1-c543-4fab-bd5e-07f9514451e9",
   "metadata": {},
   "outputs": [
    {
     "name": "stdout",
     "output_type": "stream",
     "text": [
      "0\n",
      "1\n",
      "2\n",
      "3\n",
      "4\n",
      "5\n"
     ]
    }
   ],
   "source": [
    "for i in range(6):\n",
    "    print(i)\n"
   ]
  },
  {
   "cell_type": "markdown",
   "id": "c0bb46ca-689f-421b-81e1-cf811633b2ca",
   "metadata": {},
   "source": [
    "## List"
   ]
  },
  {
   "cell_type": "code",
   "execution_count": 64,
   "id": "d2f3eca9-f1d5-4a47-9b79-3c51ad286878",
   "metadata": {},
   "outputs": [],
   "source": [
    "# it is written in [ ]  square bracket"
   ]
  },
  {
   "cell_type": "code",
   "execution_count": 48,
   "id": "e9313583-ed60-438b-a482-23968589ddb7",
   "metadata": {},
   "outputs": [
    {
     "name": "stdout",
     "output_type": "stream",
     "text": [
      "[90, 45, 20]\n"
     ]
    }
   ],
   "source": [
    "marks = [90, 45, 20]\n",
    "print(marks)"
   ]
  },
  {
   "cell_type": "code",
   "execution_count": 50,
   "id": "3e47e664-91ea-4e8e-a916-84cd2af7264b",
   "metadata": {},
   "outputs": [
    {
     "name": "stdout",
     "output_type": "stream",
     "text": [
      "45\n"
     ]
    }
   ],
   "source": [
    "marks = [90, 45, 20]\n",
    "print(marks[1])       # it will print that index value"
   ]
  },
  {
   "cell_type": "code",
   "execution_count": 51,
   "id": "58eda452-cf57-4571-bc67-3f64fd2885c5",
   "metadata": {},
   "outputs": [
    {
     "name": "stdout",
     "output_type": "stream",
     "text": [
      "[45, 20]\n"
     ]
    }
   ],
   "source": [
    "marks = [90, 45, 20, 50]\n",
    "print(marks[1:3])     # this will include 1,2 but not third index"
   ]
  },
  {
   "cell_type": "code",
   "execution_count": 52,
   "id": "379a38d9-49c1-4881-b6df-e76aacc55bfe",
   "metadata": {},
   "outputs": [
    {
     "name": "stdout",
     "output_type": "stream",
     "text": [
      "90\n",
      "45\n",
      "20\n"
     ]
    }
   ],
   "source": [
    "marks = [90, 45, 20]\n",
    "\n",
    "for score in marks:\n",
    "    print(score)"
   ]
  },
  {
   "cell_type": "markdown",
   "id": "18ab8a87-a016-4cf2-93c9-2c00902daa7b",
   "metadata": {},
   "source": [
    "## Operations on List"
   ]
  },
  {
   "cell_type": "code",
   "execution_count": 53,
   "id": "d262da90-b6fe-4779-b7b2-63ed04c942c5",
   "metadata": {},
   "outputs": [
    {
     "name": "stdout",
     "output_type": "stream",
     "text": [
      "[90, 45, 20, 100]\n"
     ]
    }
   ],
   "source": [
    "marks = [90, 45, 20]\n",
    "marks.append(100)     # add in the end\n",
    "print(marks)"
   ]
  },
  {
   "cell_type": "code",
   "execution_count": 54,
   "id": "11a825b1-6c53-4ea7-a532-a8db866e60cf",
   "metadata": {},
   "outputs": [
    {
     "name": "stdout",
     "output_type": "stream",
     "text": [
      "[90, 100, 45, 20]\n"
     ]
    }
   ],
   "source": [
    "marks = [90, 45, 20]\n",
    "marks.insert(1, 100)     # add in the index value i.e 1\n",
    "print(marks)"
   ]
  },
  {
   "cell_type": "code",
   "execution_count": 55,
   "id": "61a1cc60-e742-4376-87c7-3caf3df3b0cd",
   "metadata": {},
   "outputs": [
    {
     "name": "stdout",
     "output_type": "stream",
     "text": [
      "True\n"
     ]
    }
   ],
   "source": [
    "marks = [90, 45, 20]   \n",
    "print(90 in marks)"
   ]
  },
  {
   "cell_type": "code",
   "execution_count": 56,
   "id": "c158cea6-f79c-4d58-9fc7-028d40de4894",
   "metadata": {},
   "outputs": [
    {
     "name": "stdout",
     "output_type": "stream",
     "text": [
      "3\n"
     ]
    }
   ],
   "source": [
    "marks = [90, 45, 20]\n",
    "print(len(marks))"
   ]
  },
  {
   "cell_type": "code",
   "execution_count": 57,
   "id": "9a2cc5d5-e42d-444c-bcec-10666744c4e1",
   "metadata": {},
   "outputs": [
    {
     "name": "stdout",
     "output_type": "stream",
     "text": [
      "90\n",
      "45\n",
      "20\n"
     ]
    }
   ],
   "source": [
    "marks = [90, 45, 20]\n",
    "i=0\n",
    "\n",
    "while i<len(marks):\n",
    "    print(marks[i])\n",
    "    i += 1"
   ]
  },
  {
   "cell_type": "code",
   "execution_count": 58,
   "id": "f152ce4d-db43-4f50-be2b-16bf9c46c629",
   "metadata": {},
   "outputs": [
    {
     "name": "stdout",
     "output_type": "stream",
     "text": [
      "None\n"
     ]
    }
   ],
   "source": [
    "marks = [90, 45, 20]\n",
    "print(marks.clear())"
   ]
  },
  {
   "cell_type": "markdown",
   "id": "dfbcd39a-a456-4893-aa22-1e4d6faf6043",
   "metadata": {},
   "source": [
    "## Break"
   ]
  },
  {
   "cell_type": "code",
   "execution_count": 60,
   "id": "b173824f-354d-4e5f-89b3-620fcc99214e",
   "metadata": {},
   "outputs": [
    {
     "name": "stdout",
     "output_type": "stream",
     "text": [
      "ram\n",
      "sham\n"
     ]
    }
   ],
   "source": [
    "students = [\"ram\", \"sham\", \"meera\", \"geeta\", \"seeta\"]\n",
    "\n",
    "for student in students:\n",
    "    if student == \"meera\":\n",
    "        break;              # this will not print name from meera , it will break\n",
    "    print(student)"
   ]
  },
  {
   "cell_type": "markdown",
   "id": "ce3c2b2a-efad-4b46-a6e7-7ff9b6a3cc88",
   "metadata": {},
   "source": [
    "## Continue"
   ]
  },
  {
   "cell_type": "code",
   "execution_count": 61,
   "id": "4d1287fb-8e6f-4354-af06-2a780cdf825f",
   "metadata": {},
   "outputs": [
    {
     "name": "stdout",
     "output_type": "stream",
     "text": [
      "ram\n",
      "sham\n",
      "geeta\n",
      "seeta\n"
     ]
    }
   ],
   "source": [
    "students = [\"ram\", \"sham\", \"meera\", \"geeta\", \"seeta\"]\n",
    "\n",
    "for student in students:\n",
    "    if student == \"meera\":\n",
    "        continue;              # this will not print name of meera , it will continue to print remaining names\n",
    "    print(student)"
   ]
  },
  {
   "cell_type": "markdown",
   "id": "879eba63-d591-4348-a216-5a24ed16567f",
   "metadata": {},
   "source": [
    "## Tuple"
   ]
  },
  {
   "cell_type": "code",
   "execution_count": 65,
   "id": "b0878114-13b6-4965-92ad-e4c48388deed",
   "metadata": {},
   "outputs": [
    {
     "name": "stdout",
     "output_type": "stream",
     "text": [
      "2\n",
      "1\n"
     ]
    }
   ],
   "source": [
    "# it is written in ( ) round bracket/ parenthesis\n",
    "# it is similar to list (immutable) => once it made it cannot be change\n",
    "\n",
    "marks = (100, 101, 103, 101)\n",
    "print(marks.count(101))\n",
    "print(marks.index(101))"
   ]
  },
  {
   "cell_type": "markdown",
   "id": "1e7cb350-f288-4040-8af1-1981b56b89df",
   "metadata": {},
   "source": [
    "## Set"
   ]
  },
  {
   "cell_type": "code",
   "execution_count": 68,
   "id": "4d81397f-9cb7-4182-8ce6-159e540f57c3",
   "metadata": {},
   "outputs": [
    {
     "name": "stdout",
     "output_type": "stream",
     "text": [
      "100\n",
      "101\n",
      "103\n"
     ]
    }
   ],
   "source": [
    "# it is written in { }  curly bracket\n",
    "# also parenthesis is optional in set\n",
    "# it contains unique value\n",
    "# it does not contain order hence it is called as unordered\n",
    "marks = {100, 101, 103, 101}\n",
    "\n",
    "for score in marks: \n",
    "    print(score)"
   ]
  },
  {
   "cell_type": "markdown",
   "id": "a5620fe5-2e83-45c3-8ba0-9dda86b12939",
   "metadata": {},
   "source": [
    "## Dictionary"
   ]
  },
  {
   "cell_type": "code",
   "execution_count": 69,
   "id": "220d2f70-fc8f-49c9-8a65-40ac5d72bbab",
   "metadata": {},
   "outputs": [
    {
     "name": "stdout",
     "output_type": "stream",
     "text": [
      "67\n"
     ]
    }
   ],
   "source": [
    "# it contains key-value pair\n",
    "marks = {\"eng\" : 95, \"chem\" : 67}\n",
    "print(marks[\"chem\"])"
   ]
  },
  {
   "cell_type": "code",
   "execution_count": 70,
   "id": "7aa3b7aa-de0c-4b3b-96a4-045bc1418ee8",
   "metadata": {},
   "outputs": [
    {
     "name": "stdout",
     "output_type": "stream",
     "text": [
      "{'eng': 95, 'chem': 67, 'phys': 89}\n"
     ]
    }
   ],
   "source": [
    "marks = {\"eng\" : 95, \"chem\" : 67}\n",
    "marks[\"phys\"] = 89\n",
    "print(marks)"
   ]
  },
  {
   "cell_type": "markdown",
   "id": "d707b905-2d1f-4d14-a626-c1cea82e28f5",
   "metadata": {},
   "source": [
    "## Functions"
   ]
  },
  {
   "cell_type": "code",
   "execution_count": 71,
   "id": "62d8f34a-3d91-4c1c-adb7-80f9a61f6c8f",
   "metadata": {},
   "outputs": [
    {
     "name": "stdout",
     "output_type": "stream",
     "text": [
      "2.23606797749979\n"
     ]
    }
   ],
   "source": [
    "# 1. in-built function  => int(), str(), bool()\n",
    "\n",
    "# 2. module function\n",
    "from math import sqrt\n",
    "print(sqrt(5))\n",
    "\n",
    "# 3. user-defined function\n",
    "def print_sum(first , second):\n",
    "    print(first + second)\n",
    "print"
   ]
  },
  {
   "cell_type": "code",
   "execution_count": null,
   "id": "6a749ff2-9e50-42dd-8086-2170829a561d",
   "metadata": {},
   "outputs": [],
   "source": []
  }
 ],
 "metadata": {
  "kernelspec": {
   "display_name": "Python 3 (ipykernel)",
   "language": "python",
   "name": "python3"
  },
  "language_info": {
   "codemirror_mode": {
    "name": "ipython",
    "version": 3
   },
   "file_extension": ".py",
   "mimetype": "text/x-python",
   "name": "python",
   "nbconvert_exporter": "python",
   "pygments_lexer": "ipython3",
   "version": "3.12.0"
  }
 },
 "nbformat": 4,
 "nbformat_minor": 5
}
