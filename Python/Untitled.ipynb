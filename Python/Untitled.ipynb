{
 "cells": [
  {
   "cell_type": "markdown",
   "id": "7323900c-3756-4780-a624-127c5497cb1f",
   "metadata": {},
   "source": [
    "# Hello World programme "
   ]
  },
  {
   "cell_type": "code",
   "execution_count": 1,
   "id": "17023cbf-850a-47b6-b665-b32362b075b5",
   "metadata": {},
   "outputs": [
    {
     "name": "stdout",
     "output_type": "stream",
     "text": [
      "hello \n"
     ]
    }
   ],
   "source": [
    "print (\"hello \")"
   ]
  },
  {
   "cell_type": "markdown",
   "id": "c03ae19a-3508-4b30-b6b4-07c036c9a3fd",
   "metadata": {},
   "source": [
    "# String "
   ]
  },
  {
   "cell_type": "code",
   "execution_count": 3,
   "id": "e73fafcb-e278-4e20-9581-22e32507be7d",
   "metadata": {},
   "outputs": [
    {
     "name": "stdout",
     "output_type": "stream",
     "text": [
      " my name is abhi \n"
     ]
    }
   ],
   "source": [
    "name =\" my name is abhi \"\n",
    "print (name)"
   ]
  },
  {
   "cell_type": "code",
   "execution_count": null,
   "id": "5ea0820e-c60f-4f10-81af-8ef3a94c95e4",
   "metadata": {},
   "outputs": [],
   "source": []
  },
  {
   "cell_type": "code",
   "execution_count": null,
   "id": "d331f837-2745-46a6-9298-cbcf6a7d8aa4",
   "metadata": {},
   "outputs": [],
   "source": []
  }
 ],
 "metadata": {
  "kernelspec": {
   "display_name": "Python 3 (ipykernel)",
   "language": "python",
   "name": "python3"
  },
  "language_info": {
   "codemirror_mode": {
    "name": "ipython",
    "version": 3
   },
   "file_extension": ".py",
   "mimetype": "text/x-python",
   "name": "python",
   "nbconvert_exporter": "python",
   "pygments_lexer": "ipython3",
   "version": "3.12.0"
  }
 },
 "nbformat": 4,
 "nbformat_minor": 5
}
